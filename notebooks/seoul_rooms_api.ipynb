{
 "cells": [
  {
   "cell_type": "code",
   "execution_count": 14,
   "id": "3b85cb74",
   "metadata": {},
   "outputs": [
    {
     "name": "stdout",
     "output_type": "stream",
     "text": [
      "✅ 커널 연동 성공 & 패키지 정상 작동!\n"
     ]
    }
   ],
   "source": [
    "import pandas as pd\n",
    "from sqlalchemy import create_engine\n",
    "import pymysql\n",
    "\n",
    "print(\"✅ 커널 연동 성공 & 패키지 정상 작동!\")"
   ]
  },
  {
   "cell_type": "code",
   "execution_count": 15,
   "id": "23257d00",
   "metadata": {},
   "outputs": [
    {
     "name": "stdout",
     "output_type": "stream",
     "text": [
      "✅ DB 연결 성공!\n",
      "📊 Seoul_rooms 데이터프레임:\n"
     ]
    },
    {
     "data": {
      "text/html": [
       "<div>\n",
       "<style scoped>\n",
       "    .dataframe tbody tr th:only-of-type {\n",
       "        vertical-align: middle;\n",
       "    }\n",
       "\n",
       "    .dataframe tbody tr th {\n",
       "        vertical-align: top;\n",
       "    }\n",
       "\n",
       "    .dataframe thead th {\n",
       "        text-align: right;\n",
       "    }\n",
       "</style>\n",
       "<table border=\"1\" class=\"dataframe\">\n",
       "  <thead>\n",
       "    <tr style=\"text-align: right;\">\n",
       "      <th></th>\n",
       "      <th>id</th>\n",
       "      <th>dong_code</th>\n",
       "      <th>gu_name</th>\n",
       "      <th>dong_name</th>\n",
       "      <th>seq</th>\n",
       "      <th>room_type</th>\n",
       "      <th>room_title</th>\n",
       "      <th>room_desc</th>\n",
       "      <th>price_type</th>\n",
       "      <th>price_info</th>\n",
       "      <th>img_url_list</th>\n",
       "      <th>lat</th>\n",
       "      <th>lng</th>\n",
       "      <th>floor</th>\n",
       "      <th>area_m2</th>\n",
       "      <th>maintenance_fee</th>\n",
       "      <th>created_at</th>\n",
       "    </tr>\n",
       "  </thead>\n",
       "  <tbody>\n",
       "  </tbody>\n",
       "</table>\n",
       "</div>"
      ],
      "text/plain": [
       "Empty DataFrame\n",
       "Columns: [id, dong_code, gu_name, dong_name, seq, room_type, room_title, room_desc, price_type, price_info, img_url_list, lat, lng, floor, area_m2, maintenance_fee, created_at]\n",
       "Index: []"
      ]
     },
     "metadata": {},
     "output_type": "display_data"
    }
   ],
   "source": [
    "import pandas as pd                         # CSV 읽기용\n",
    "from sqlalchemy import create_engine        # DB 연결용\n",
    "from dotenv import load_dotenv              # .env 파일에서 환경변수 불러오기\n",
    "import os                                   # 환경변수 로드에 사용\n",
    "\n",
    "# .env 로드\n",
    "load_dotenv()\n",
    "\n",
    "# DB 연결 엔진 생성\n",
    "engine = create_engine(os.getenv(\"DB_URL\"))\n",
    "\n",
    "print(\"✅ DB 연결 성공!\")\n",
    "\n",
    "# Seoul_rooms 테이블 조회\n",
    "try:\n",
    "    query = \"SELECT * FROM Seoul_rooms\"\n",
    "    df = pd.read_sql(query, engine)\n",
    "    \n",
    "    # 데이터프레임 출력\n",
    "    print(\"📊 Seoul_rooms 데이터프레임:\")\n",
    "    display(df.head())\n",
    "except Exception as e:\n",
    "    print(f\"🚨 데이터 조회 실패: {e}\")\n",
    "finally:\n",
    "    engine.dispose()  # 엔진 리소스 정리"
   ]
  },
  {
   "cell_type": "code",
   "execution_count": 16,
   "id": "c3358906",
   "metadata": {},
   "outputs": [
    {
     "name": "stdout",
     "output_type": "stream",
     "text": [
      "📋 Seoul_rooms 테이블의 컬럼명:\n",
      "id\n",
      "dong_code\n",
      "gu_name\n",
      "dong_name\n",
      "seq\n",
      "room_type\n",
      "room_title\n",
      "room_desc\n",
      "price_type\n",
      "price_info\n",
      "img_url_list\n",
      "lat\n",
      "lng\n",
      "floor\n",
      "area_m2\n",
      "maintenance_fee\n",
      "created_at\n"
     ]
    }
   ],
   "source": [
    "# Seoul_dong_codes 테이블의 컬럼명 조회\n",
    "try:\n",
    "    query = \"\"\"\n",
    "    SELECT COLUMN_NAME \n",
    "    FROM INFORMATION_SCHEMA.COLUMNS \n",
    "    WHERE TABLE_NAME = 'Seoul_rooms' \n",
    "    AND TABLE_SCHEMA = DATABASE()\n",
    "    \"\"\"\n",
    "    df_columns = pd.read_sql(query, engine)\n",
    "    \n",
    "    # 컬럼명 리스트 출력\n",
    "    print(\"📋 Seoul_rooms 테이블의 컬럼명:\")\n",
    "    for col in df_columns['COLUMN_NAME']:\n",
    "        print(col)\n",
    "except Exception as e:\n",
    "    print(f\"🚨 컬럼 조회 실패: {e}\")\n",
    "finally:\n",
    "    engine.dispose()  # 엔진 리소스 정리"
   ]
  },
  {
   "cell_type": "code",
   "execution_count": 13,
   "id": "35578512",
   "metadata": {},
   "outputs": [
    {
     "name": "stdout",
     "output_type": "stream",
     "text": [
      "📊 Seoul_rooms 데이터프레임 (선택된 컬럼):\n"
     ]
    },
    {
     "data": {
      "text/html": [
       "<div>\n",
       "<style scoped>\n",
       "    .dataframe tbody tr th:only-of-type {\n",
       "        vertical-align: middle;\n",
       "    }\n",
       "\n",
       "    .dataframe tbody tr th {\n",
       "        vertical-align: top;\n",
       "    }\n",
       "\n",
       "    .dataframe thead th {\n",
       "        text-align: right;\n",
       "    }\n",
       "</style>\n",
       "<table border=\"1\" class=\"dataframe\">\n",
       "  <thead>\n",
       "    <tr style=\"text-align: right;\">\n",
       "      <th></th>\n",
       "      <th>id</th>\n",
       "      <th>room_type</th>\n",
       "      <th>room_title</th>\n",
       "      <th>price_type</th>\n",
       "      <th>price_info</th>\n",
       "      <th>img_url_list</th>\n",
       "      <th>lat</th>\n",
       "      <th>lng</th>\n",
       "      <th>area_m2</th>\n",
       "    </tr>\n",
       "  </thead>\n",
       "  <tbody>\n",
       "  </tbody>\n",
       "</table>\n",
       "</div>"
      ],
      "text/plain": [
       "Empty DataFrame\n",
       "Columns: [id, room_type, room_title, price_type, price_info, img_url_list, lat, lng, area_m2]\n",
       "Index: []"
      ]
     },
     "metadata": {},
     "output_type": "display_data"
    }
   ],
   "source": [
    "# Seoul_rooms 테이블에서 특정 컬럼 조회\n",
    "try:\n",
    "    query = \"\"\"\n",
    "    SELECT id, room_type, room_title, price_type, price_info, \n",
    "           img_url_list, lat, lng, area_m2 \n",
    "    FROM Seoul_rooms\n",
    "    \"\"\"\n",
    "    df = pd.read_sql(\n",
    "        sql=query,\n",
    "        con=engine\n",
    "    )\n",
    "    \n",
    "    # 데이터프레임 출력\n",
    "    print(\"📊 Seoul_rooms 데이터프레임 (선택된 컬럼):\")\n",
    "    display(df)  # Jupyter Notebook에서 테이블 형식 출력\n",
    "except Exception as e:\n",
    "    print(f\"🚨 데이터 조회 실패: {e}\")\n",
    "finally:\n",
    "    engine.dispose()  # 엔진 리소스 정리"
   ]
  },
  {
   "cell_type": "code",
   "execution_count": null,
   "id": "f9672ce4",
   "metadata": {},
   "outputs": [],
   "source": []
  }
 ],
 "metadata": {
  "kernelspec": {
   "display_name": "3.12.3",
   "language": "python",
   "name": "python3"
  },
  "language_info": {
   "codemirror_mode": {
    "name": "ipython",
    "version": 3
   },
   "file_extension": ".py",
   "mimetype": "text/x-python",
   "name": "python",
   "nbconvert_exporter": "python",
   "pygments_lexer": "ipython3",
   "version": "3.12.3"
  }
 },
 "nbformat": 4,
 "nbformat_minor": 5
}

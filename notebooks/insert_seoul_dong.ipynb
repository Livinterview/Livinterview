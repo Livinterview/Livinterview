{
 "cells": [
  {
   "cell_type": "code",
   "execution_count": 13,
   "metadata": {},
   "outputs": [
    {
     "name": "stdout",
     "output_type": "stream",
     "text": [
      "✅ 커널 연동 성공 & 패키지 정상 작동!\n"
     ]
    }
   ],
   "source": [
    "import pandas as pd\n",
    "from sqlalchemy import create_engine\n",
    "import pymysql\n",
    "\n",
    "print(\"✅ 커널 연동 성공 & 패키지 정상 작동!\")"
   ]
  },
  {
   "cell_type": "code",
   "execution_count": 24,
   "metadata": {},
   "outputs": [
    {
     "name": "stdout",
     "output_type": "stream",
     "text": [
      "✅ DB 연결 성공!\n",
      "<class 'pandas.core.frame.DataFrame'>\n",
      "RangeIndex: 467 entries, 0 to 466\n",
      "Data columns (total 5 columns):\n",
      " #   Column      Non-Null Count  Dtype \n",
      "---  ------      --------------  ----- \n",
      " 0   code        467 non-null    int64 \n",
      " 1   full_name   467 non-null    object\n",
      " 2   gu_name     467 non-null    object\n",
      " 3   dong_name   467 non-null    object\n",
      " 4   short_code  467 non-null    int64 \n",
      "dtypes: int64(2), object(3)\n",
      "memory usage: 18.4+ KB\n",
      "None\n",
      "<bound method DataFrame.info of            code      full_name gu_name dong_name  short_code\n",
      "0    1111010100  서울특별시 종로구 청운동     종로구       청운동    11110101\n",
      "1    1111010200  서울특별시 종로구 신교동     종로구       신교동    11110102\n",
      "2    1111010300  서울특별시 종로구 궁정동     종로구       궁정동    11110103\n",
      "3    1111010400  서울특별시 종로구 효자동     종로구       효자동    11110104\n",
      "4    1111010500  서울특별시 종로구 창성동     종로구       창성동    11110105\n",
      "..          ...            ...     ...       ...         ...\n",
      "462  1174010600  서울특별시 강동구 둔촌동     강동구       둔촌동    11740106\n",
      "463  1174010700  서울특별시 강동구 암사동     강동구       암사동    11740107\n",
      "464  1174010800  서울특별시 강동구 성내동     강동구       성내동    11740108\n",
      "465  1174010900  서울특별시 강동구 천호동     강동구       천호동    11740109\n",
      "466  1174011000  서울특별시 강동구 강일동     강동구       강일동    11740110\n",
      "\n",
      "[467 rows x 5 columns]>\n"
     ]
    },
    {
     "data": {
      "text/html": [
       "<div>\n",
       "<style scoped>\n",
       "    .dataframe tbody tr th:only-of-type {\n",
       "        vertical-align: middle;\n",
       "    }\n",
       "\n",
       "    .dataframe tbody tr th {\n",
       "        vertical-align: top;\n",
       "    }\n",
       "\n",
       "    .dataframe thead th {\n",
       "        text-align: right;\n",
       "    }\n",
       "</style>\n",
       "<table border=\"1\" class=\"dataframe\">\n",
       "  <thead>\n",
       "    <tr style=\"text-align: right;\">\n",
       "      <th></th>\n",
       "      <th>code</th>\n",
       "      <th>full_name</th>\n",
       "      <th>gu_name</th>\n",
       "      <th>dong_name</th>\n",
       "      <th>short_code</th>\n",
       "    </tr>\n",
       "  </thead>\n",
       "  <tbody>\n",
       "    <tr>\n",
       "      <th>0</th>\n",
       "      <td>1111010100</td>\n",
       "      <td>서울특별시 종로구 청운동</td>\n",
       "      <td>종로구</td>\n",
       "      <td>청운동</td>\n",
       "      <td>11110101</td>\n",
       "    </tr>\n",
       "    <tr>\n",
       "      <th>1</th>\n",
       "      <td>1111010200</td>\n",
       "      <td>서울특별시 종로구 신교동</td>\n",
       "      <td>종로구</td>\n",
       "      <td>신교동</td>\n",
       "      <td>11110102</td>\n",
       "    </tr>\n",
       "    <tr>\n",
       "      <th>2</th>\n",
       "      <td>1111010300</td>\n",
       "      <td>서울특별시 종로구 궁정동</td>\n",
       "      <td>종로구</td>\n",
       "      <td>궁정동</td>\n",
       "      <td>11110103</td>\n",
       "    </tr>\n",
       "    <tr>\n",
       "      <th>3</th>\n",
       "      <td>1111010400</td>\n",
       "      <td>서울특별시 종로구 효자동</td>\n",
       "      <td>종로구</td>\n",
       "      <td>효자동</td>\n",
       "      <td>11110104</td>\n",
       "    </tr>\n",
       "    <tr>\n",
       "      <th>4</th>\n",
       "      <td>1111010500</td>\n",
       "      <td>서울특별시 종로구 창성동</td>\n",
       "      <td>종로구</td>\n",
       "      <td>창성동</td>\n",
       "      <td>11110105</td>\n",
       "    </tr>\n",
       "  </tbody>\n",
       "</table>\n",
       "</div>"
      ],
      "text/plain": [
       "         code      full_name gu_name dong_name  short_code\n",
       "0  1111010100  서울특별시 종로구 청운동     종로구       청운동    11110101\n",
       "1  1111010200  서울특별시 종로구 신교동     종로구       신교동    11110102\n",
       "2  1111010300  서울특별시 종로구 궁정동     종로구       궁정동    11110103\n",
       "3  1111010400  서울특별시 종로구 효자동     종로구       효자동    11110104\n",
       "4  1111010500  서울특별시 종로구 창성동     종로구       창성동    11110105"
      ]
     },
     "execution_count": 24,
     "metadata": {},
     "output_type": "execute_result"
    }
   ],
   "source": [
    "import pandas as pd                         # CSV 읽기용\n",
    "from sqlalchemy import create_engine        # DB 연결용\n",
    "from dotenv import load_dotenv              # .env 파일에서 환경변수 불러오기\n",
    "import os                                   # 환경변수 로드에 사용\n",
    "\n",
    "# .env 로드\n",
    "load_dotenv()\n",
    "\n",
    "# DB 연결 엔진 생성\n",
    "engine = create_engine(os.getenv(\"DB_URL\"))\n",
    "\n",
    "print(\"✅ DB 연결 성공!\")\n",
    "\n",
    "# CSV 파일 불러오기 (파일 경로는 프로젝트 구조에 따라 조정!)\n",
    "df = pd.read_csv(\"../data/seoul_dong_codes.csv\")\n",
    "\n",
    "# 데이터 확인\n",
    "\n",
    "print(df.info())\n",
    "print(df.info)\n",
    "df.head()"
   ]
  },
  {
   "cell_type": "code",
   "execution_count": 25,
   "metadata": {},
   "outputs": [
    {
     "name": "stdout",
     "output_type": "stream",
     "text": [
      "🔹 code 최대 길이: 10\n",
      "🔹 full_name 최대 길이: 17\n",
      "🔹 gu_name 최대 길이: 4\n",
      "🔹 dong_name 최대 길이: 6\n",
      "🔹 short_code 최대 길이: 8\n"
     ]
    }
   ],
   "source": [
    "for col in df.columns:\n",
    "    max_len = df[col].astype(str).map(len).max()\n",
    "    print(f\"🔹 {col} 최대 길이: {max_len}\")"
   ]
  },
  {
   "cell_type": "code",
   "execution_count": 26,
   "metadata": {},
   "outputs": [
    {
     "name": "stdout",
     "output_type": "stream",
     "text": [
      "✅ 데이터 삽입 완료!\n"
     ]
    }
   ],
   "source": [
    "df.to_sql(\n",
    "    name='Seoul_dong_codes',  \n",
    "    con=engine,                # SQLAlchemy 엔진\n",
    "    index=False,               # DataFrame 인덱스는 제외\n",
    "    if_exists='append'         # 이미 존재하는 테이블에 추가\n",
    ")\n",
    "print(\"✅ 데이터 삽입 완료!\")"
   ]
  },
  {
   "cell_type": "code",
   "execution_count": null,
   "metadata": {},
   "outputs": [],
   "source": []
  }
 ],
 "metadata": {
  "kernelspec": {
   "display_name": "venv",
   "language": "python",
   "name": "python3"
  },
  "language_info": {
   "codemirror_mode": {
    "name": "ipython",
    "version": 3
   },
   "file_extension": ".py",
   "mimetype": "text/x-python",
   "name": "python",
   "nbconvert_exporter": "python",
   "pygments_lexer": "ipython3",
   "version": "3.12.3"
  }
 },
 "nbformat": 4,
 "nbformat_minor": 2
}

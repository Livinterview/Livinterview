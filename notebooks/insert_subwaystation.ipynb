{
 "cells": [
  {
   "cell_type": "code",
   "execution_count": 4,
   "metadata": {},
   "outputs": [
    {
     "name": "stdout",
     "output_type": "stream",
     "text": [
      "봉래동2가\n",
      "을지로7가\n",
      "묘동\n",
      "적선동\n",
      "용산동4가\n",
      "세종로\n",
      "을지로7가\n",
      "을지로4가\n",
      "을지로1가\n",
      "태평로2가\n",
      "묘동\n",
      "종로1가\n",
      "태평로2가\n",
      "봉래동2가\n",
      "봉래동2가\n",
      "봉래동2가\n",
      "을지로7가\n",
      "묘동\n",
      "적선동\n",
      "을지로7가\n",
      "을지로4가\n",
      "을지로1가\n",
      "서소문동\n",
      "종로3가\n",
      "종로1가\n",
      "봉래동2가\n"
     ]
    }
   ],
   "source": [
    "import os\n",
    "import sys\n",
    "import pandas as pd\n",
    "from sqlalchemy import create_engine\n",
    "from sqlalchemy.orm import sessionmaker\n",
    "\n",
    "sys.path.append(\"../\")\n",
    "from backend.models import SubwayStation, HomieDong, SubwayAdjacentDong\n",
    "\n",
    "\n",
    "subway_df = pd.read_csv(\"../data/seoul_subway.csv\", encoding=\"utf-8\")\n",
    "subway_df.head()\n",
    "\n",
    "engine = create_engine(os.getenv(\"DB_URL\"))\n",
    "Session = sessionmaker(engine)\n",
    "session = Session()\n",
    "\n",
    "for data in subway_df.itertuples():\n",
    "    homie_dong_id = (\n",
    "        session.query(HomieDong.id).filter(HomieDong.dong == data.dong).first()\n",
    "    )\n",
    "    if homie_dong_id is None:\n",
    "        print(data.dong)\n",
    "        continue\n",
    "    new_subway_station = SubwayStation(\n",
    "        homie_dong_id=homie_dong_id[0],\n",
    "        name=data.name,\n",
    "        line=data.line,\n",
    "        lat=data.lat,\n",
    "        lon=data.lon,\n",
    "    )\n",
    "    session.add(new_subway_station)\n",
    "    session.flush()\n",
    "    for adjacent_dong in data.adjacent_dongs:\n",
    "        homie_dong_id = (\n",
    "            session.query(HomieDong.id).filter(HomieDong.dong == data.dong).first()\n",
    "        )\n",
    "        if homie_dong_id is None:\n",
    "            print(data.dong)\n",
    "            continue\n",
    "        new_adjacent_dong = SubwayAdjacentDong(\n",
    "            subway_station_id=new_subway_station.id, homie_dong_id=homie_dong_id[0]\n",
    "        )\n",
    "        session.add(new_adjacent_dong)\n",
    "\n",
    "session.commit()\n",
    "session.close()"
   ]
  }
 ],
 "metadata": {
  "kernelspec": {
   "display_name": "env",
   "language": "python",
   "name": "python3"
  },
  "language_info": {
   "codemirror_mode": {
    "name": "ipython",
    "version": 3
   },
   "file_extension": ".py",
   "mimetype": "text/x-python",
   "name": "python",
   "nbconvert_exporter": "python",
   "pygments_lexer": "ipython3",
   "version": "3.12.3"
  }
 },
 "nbformat": 4,
 "nbformat_minor": 2
}

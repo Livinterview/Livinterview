{
 "cells": [
  {
   "cell_type": "code",
   "execution_count": null,
   "metadata": {},
   "outputs": [],
   "source": [
    "from sqlalchemy import create_engine\n",
    "from sqlalchemy.orm import sessionmaker, joinedload\n",
    "import os\n",
    "from models import HomieQuestion, HomieAnswer\n",
    "\n",
    "engine = create_engine(os.getenv(\"DB_URL\"))\n",
    "\n",
    "Session = sessionmaker(bind=engine)"
   ]
  },
  {
   "cell_type": "code",
   "execution_count": 13,
   "metadata": {},
   "outputs": [
    {
     "data": {
      "text/plain": [
       "{'id': 58,\n",
       " 'main_category': '교통',\n",
       " 'sub_category': '가까운 지하철역',\n",
       " 'content': '가장 가까웠으면 하는 지하철역이 있으신가요?',\n",
       " 'input_type': 'select',\n",
       " 'icon_path': '/icons/report/transfer/subway.svg',\n",
       " 'code': 100,\n",
       " 'state': 'active',\n",
       " 'created_at': datetime.datetime(2025, 4, 24, 11, 58, 32),\n",
       " 'expired_at': None,\n",
       " 'answers': [{'id': 274,\n",
       "   'homie_questions_id': 58,\n",
       "   'content': '강남역',\n",
       "   'score': None,\n",
       "   'state': 'active',\n",
       "   'created_at': datetime.datetime(2025, 4, 24, 11, 58, 32),\n",
       "   'expired_at': None},\n",
       "  {'id': 275,\n",
       "   'homie_questions_id': 58,\n",
       "   'content': '홍대입구역',\n",
       "   'score': None,\n",
       "   'state': 'active',\n",
       "   'created_at': datetime.datetime(2025, 4, 24, 11, 58, 32),\n",
       "   'expired_at': None},\n",
       "  {'id': 276,\n",
       "   'homie_questions_id': 58,\n",
       "   'content': '서울역',\n",
       "   'score': None,\n",
       "   'state': 'active',\n",
       "   'created_at': datetime.datetime(2025, 4, 24, 11, 58, 32),\n",
       "   'expired_at': None},\n",
       "  {'id': 277,\n",
       "   'homie_questions_id': 58,\n",
       "   'content': '기타',\n",
       "   'score': None,\n",
       "   'state': 'active',\n",
       "   'created_at': datetime.datetime(2025, 4, 24, 11, 58, 32),\n",
       "   'expired_at': None}]}"
      ]
     },
     "execution_count": 13,
     "metadata": {},
     "output_type": "execute_result"
    }
   ],
   "source": [
    "session = Session()\n",
    "questions = session.query(HomieQuestion).order_by(HomieQuestion.code.asc()).all()\n",
    "qna_list = []\n",
    "for question in questions:\n",
    "    question_data = question.to_dict()\n",
    "    question_data[\"answers\"] = [answer.to_dict() for answer in question.homie_answers]\n",
    "    qna_list.append(question_data)\n",
    "session.close()\n",
    "qna_list[0]"
   ]
  },
  {
   "cell_type": "code",
   "execution_count": null,
   "metadata": {},
   "outputs": [
    {
     "name": "stdout",
     "output_type": "stream",
     "text": [
      "가장 가까웠으면 하는 지하철역이 있으신가요?\n",
      " 0 강남역\n",
      " 1 홍대입구역\n",
      " 2 서울역\n",
      " 3 기타\n"
     ]
    },
    {
     "ename": "TypeError",
     "evalue": "list indices must be integers or slices, not str",
     "output_type": "error",
     "traceback": [
      "\u001b[31m---------------------------------------------------------------------------\u001b[39m",
      "\u001b[31mTypeError\u001b[39m                                 Traceback (most recent call last)",
      "\u001b[36mCell\u001b[39m\u001b[36m \u001b[39m\u001b[32mIn[23]\u001b[39m\u001b[32m, line 11\u001b[39m\n\u001b[32m      9\u001b[39m answer = \u001b[38;5;28minput\u001b[39m(\u001b[33m\"\u001b[39m\u001b[33m당신의 대답은?: \u001b[39m\u001b[33m\"\u001b[39m)\n\u001b[32m     10\u001b[39m \u001b[38;5;28;01mif\u001b[39;00m qna[\u001b[33m\"\u001b[39m\u001b[33minput_type\u001b[39m\u001b[33m\"\u001b[39m] != \u001b[33m\"\u001b[39m\u001b[33minput\u001b[39m\u001b[33m\"\u001b[39m:\n\u001b[32m---> \u001b[39m\u001b[32m11\u001b[39m     score = \u001b[43mqna\u001b[49m\u001b[43m[\u001b[49m\u001b[33;43m\"\u001b[39;49m\u001b[33;43manswers\u001b[39;49m\u001b[33;43m\"\u001b[39;49m\u001b[43m]\u001b[49m\u001b[43m[\u001b[49m\u001b[43manswer\u001b[49m\u001b[43m]\u001b[49m[\u001b[33m\"\u001b[39m\u001b[33mscore\u001b[39m\u001b[33m\"\u001b[39m]\n\u001b[32m     12\u001b[39m     vector.append(score)\n",
      "\u001b[31mTypeError\u001b[39m: list indices must be integers or slices, not str"
     ]
    }
   ],
   "source": [
    "vector = []\n",
    "for qna in qna_list:\n",
    "    print(qna[\"content\"])\n",
    "    answers = [\n",
    "        f\" {index} {answer['content']}\" for index, answer in enumerate(qna[\"answers\"])\n",
    "    ] or None\n",
    "    if answers is not None:\n",
    "        print(*answers, sep=\"\\n\")\n",
    "    answer = int(input(\"당신의 대답은?: \"))\n",
    "    if answers and qna[\"answers\"][0][\"score\"] is not None:\n",
    "        score = qna[\"answers\"][answer][\"score\"]\n",
    "        vector.append(score)\n",
    "print(vector)"
   ]
  }
 ],
 "metadata": {
  "kernelspec": {
   "display_name": "env",
   "language": "python",
   "name": "python3"
  },
  "language_info": {
   "codemirror_mode": {
    "name": "ipython",
    "version": 3
   },
   "file_extension": ".py",
   "mimetype": "text/x-python",
   "name": "python",
   "nbconvert_exporter": "python",
   "pygments_lexer": "ipython3",
   "version": "3.12.3"
  }
 },
 "nbformat": 4,
 "nbformat_minor": 2
}
